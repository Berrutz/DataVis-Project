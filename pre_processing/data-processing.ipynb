{
 "cells": [
  {
   "cell_type": "markdown",
   "metadata": {},
   "source": [
    "## Pre-processing Phase\n",
    "\n",
    "# TO use only when we want to derive new data from the actual dataset "
   ]
  },
  {
   "cell_type": "code",
   "execution_count": 4,
   "metadata": {},
   "outputs": [
    {
     "name": "stdout",
     "output_type": "stream",
     "text": [
      "        Entity Code  Year  Annual CO₂ emissions (per capita)\n",
      "0  Afghanistan  AFG  1949                           0.001992\n",
      "1  Afghanistan  AFG  1950                           0.011266\n",
      "2  Afghanistan  AFG  1951                           0.012098\n",
      "3  Afghanistan  AFG  1952                           0.011946\n",
      "4  Afghanistan  AFG  1953                           0.013685\n",
      "Number of rows: 26600\n",
      "Number of coloumns: 4\n"
     ]
    }
   ],
   "source": [
    "import pandas as pd\n",
    "\n",
    "# Load the CSV file\n",
    "dataset_path = \"../dataset/co-emissions-per-capita.csv\"\n",
    "\n",
    "df = pd.read_csv(dataset_path, sep=',')  # Change sep to ';' if needed\n",
    "\n",
    "# Display the first few rows to verify\n",
    "print(df.head())\n",
    "\n",
    "num_rows, num_columns = df.shape\n",
    "\n",
    "print(f\"Number of rows: {num_rows}\")\n",
    "print(f\"Number of coloumns: {num_columns}\")\n"
   ]
  },
  {
   "cell_type": "markdown",
   "metadata": {},
   "source": [
    "## Example"
   ]
  },
  {
   "cell_type": "code",
   "execution_count": 2,
   "metadata": {},
   "outputs": [
    {
     "name": "stdout",
     "output_type": "stream",
     "text": [
      "        Entity Code  Year  Annual CO₂ emissions (per capita)\n",
      "1  Afghanistan  AFG  1950                           0.011266\n"
     ]
    }
   ],
   "source": [
    "# Filtrare per Afghanistan e per l'anno 1950\n",
    "selection = (df['Entity'] == 'Afghanistan') & (df['Year'] == 1950)\n",
    "afghanistan_1950_data = df[selection]\n",
    "\n",
    "# Visualizzare i primi risultati\n",
    "print(afghanistan_1950_data.head())\n"
   ]
  },
  {
   "cell_type": "markdown",
   "metadata": {},
   "source": [
    "---------------------"
   ]
  },
  {
   "cell_type": "markdown",
   "metadata": {},
   "source": [
    "## First Plot - Choose one Year \n",
    "- Choose one Year and plot via Bar Chart the Top 10 Entity which use more CO2 emission per capita \n"
   ]
  },
  {
   "cell_type": "code",
   "execution_count": 3,
   "metadata": {},
   "outputs": [
    {
     "name": "stdout",
     "output_type": "stream",
     "text": [
      "          Entity Code  Year  Annual CO₂ emissions (per capita)\n",
      "63   Afghanistan  AFG  2012                           0.329389\n",
      "291       Africa  NaN  2012                           1.132187\n",
      "381      Albania  ALB  2012                           1.676950\n",
      "488      Algeria  DZA  2012                           3.641230\n",
      "716      Andorra  AND  2012                           6.860168\n"
     ]
    }
   ],
   "source": [
    "# Choosing the 2012 \n",
    "selection = (df['Year'] == 2012)\n",
    "df_year_2012 = df[selection]\n",
    "\n",
    "# Visualizzare i primi risultati\n",
    "print(df_year_2012.head())"
   ]
  },
  {
   "cell_type": "markdown",
   "metadata": {},
   "source": [
    "-------------"
   ]
  },
  {
   "cell_type": "markdown",
   "metadata": {},
   "source": [
    "## Choose one decade (average)"
   ]
  },
  {
   "cell_type": "markdown",
   "metadata": {},
   "source": [
    "- Choose one Decade and plot via Bar Chart the Top 10 Entity which on average use more CO2 emission per capita "
   ]
  },
  {
   "cell_type": "code",
   "execution_count": 15,
   "metadata": {},
   "outputs": [
    {
     "name": "stdout",
     "output_type": "stream",
     "text": [
      "      Decade                     Entity  Annual CO₂ emissions (per capita)\n",
      "1439    1950  Sint Maarten (Dutch part)                         537.207977\n",
      "1654    1960  Sint Maarten (Dutch part)                         284.038517\n",
      "1872    1970  Sint Maarten (Dutch part)                         155.856916\n",
      "1321    1950                    Curacao                          83.080772\n",
      "1747    1970                    Curacao                          75.321828\n",
      "...      ...                        ...                                ...\n",
      "74      1770                    Oceania                           0.000000\n",
      "75      1770           Papua New Guinea                           0.000000\n",
      "1189    1940                     Guinea                           0.000000\n",
      "77      1770                  Singapore                           0.000000\n",
      "45      1760              North America                           0.000000\n",
      "\n",
      "[3057 rows x 3 columns]\n"
     ]
    }
   ],
   "source": [
    "# Creare una nuova colonna 'Decade' raggruppando gli anni per decade\n",
    "df['Decade'] = (df['Year'] // 10) * 10\n",
    "\n",
    "# Raggruppare i dati per 'Decade' e 'Entity', calcolando la media delle emissioni pro capite\n",
    "decade_entity_avg = df.groupby(['Decade', 'Entity'])['Annual CO₂ emissions (per capita)'].mean().reset_index()\n",
    "\n",
    "# Ordinare in ordine decrescente in base alla media delle emissioni\n",
    "decade_entity_avg_sorted = decade_entity_avg.sort_values(by='Annual CO₂ emissions (per capita)', ascending=False)\n",
    "\n",
    "print(decade_entity_avg_sorted)"
   ]
  },
  {
   "cell_type": "markdown",
   "metadata": {},
   "source": [
    "-------------------"
   ]
  }
 ],
 "metadata": {
  "kernelspec": {
   "display_name": "Python 3",
   "language": "python",
   "name": "python3"
  },
  "language_info": {
   "codemirror_mode": {
    "name": "ipython",
    "version": 3
   },
   "file_extension": ".py",
   "mimetype": "text/x-python",
   "name": "python",
   "nbconvert_exporter": "python",
   "pygments_lexer": "ipython3",
   "version": "3.12.6"
  }
 },
 "nbformat": 4,
 "nbformat_minor": 2
}
