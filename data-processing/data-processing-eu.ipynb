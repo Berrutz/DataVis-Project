{
 "cells": [
  {
   "cell_type": "markdown",
   "metadata": {},
   "source": [
    "## Pre-processing Phase\n",
    "\n",
    "# TO use only when we want to derive new data from the actual dataset "
   ]
  },
  {
   "cell_type": "code",
   "execution_count": 52,
   "metadata": {},
   "outputs": [
    {
     "name": "stdout",
     "output_type": "stream",
     "text": [
      "        Entity Code  Year  Annual CO₂ emissions (per capita)\n",
      "0  Afghanistan  AFG  1949                           0.001992\n",
      "1  Afghanistan  AFG  1950                           0.011266\n",
      "2  Afghanistan  AFG  1951                           0.012098\n",
      "3  Afghanistan  AFG  1952                           0.011946\n",
      "4  Afghanistan  AFG  1953                           0.013685\n",
      "Number of rows: 26600\n",
      "Number of coloumns: 4\n"
     ]
    }
   ],
   "source": [
    "import pandas as pd\n",
    "\n",
    "# Load the CSV file\n",
    "dataset_path = \"../datasets/co-emissions-per-capita.csv\"\n",
    "\n",
    "df = pd.read_csv(dataset_path, sep=',')  # Change sep to ';' if needed\n",
    "\n",
    "# Display the first few rows to verify\n",
    "print(df.head())\n",
    "\n",
    "num_rows, num_columns = df.shape\n",
    "\n",
    "print(f\"Number of rows: {num_rows}\")\n",
    "print(f\"Number of coloumns: {num_columns}\")\n"
   ]
  },
  {
   "cell_type": "code",
   "execution_count": 53,
   "metadata": {},
   "outputs": [
    {
     "data": {
      "text/plain": [
       "' output_path = \"../web-application/public/datasets/assignment1/co-emissions-per-capita-eu-1954.csv\"  # Specify your desired output path\\ndf_1954.to_csv(output_path, index=False)\\n\\nprint(f\"Filtered data saved to {output_path}\") '"
      ]
     },
     "execution_count": 53,
     "metadata": {},
     "output_type": "execute_result"
    }
   ],
   "source": [
    "# Filter data for years greater than 1954\n",
    "df_1954 = df[df['Year'] > 1954]\n",
    "\n",
    "# Save the filtered data to a new CSV file\n",
    "\"\"\" output_path = \"../web-application/public/datasets/assignment1/co-emissions-per-capita-eu-1954.csv\"  # Specify your desired output path\n",
    "df_1954.to_csv(output_path, index=False)\n",
    "\n",
    "print(f\"Filtered data saved to {output_path}\") \"\"\""
   ]
  },
  {
   "cell_type": "markdown",
   "metadata": {},
   "source": [
    "---------------"
   ]
  },
  {
   "cell_type": "markdown",
   "metadata": {},
   "source": [
    "## Example"
   ]
  },
  {
   "cell_type": "code",
   "execution_count": 54,
   "metadata": {},
   "outputs": [
    {
     "name": "stdout",
     "output_type": "stream",
     "text": [
      "        Entity Code  Year  Annual CO₂ emissions (per capita)\n",
      "1  Afghanistan  AFG  1950                           0.011266\n"
     ]
    }
   ],
   "source": [
    "\n",
    "selection = (df['Entity'] == 'Afghanistan') & (df['Year'] == 1950)\n",
    "afghanistan_1950_data = df[selection]\n",
    "\n",
    "\n",
    "print(afghanistan_1950_data.head())\n"
   ]
  },
  {
   "cell_type": "markdown",
   "metadata": {},
   "source": [
    "---------------------"
   ]
  },
  {
   "cell_type": "markdown",
   "metadata": {},
   "source": [
    "## First Plot - Choose one Year \n",
    "- Choose one Year and plot via Bar Chart the Top 10 Entity which use more CO2 emission per capita \n"
   ]
  },
  {
   "cell_type": "code",
   "execution_count": 55,
   "metadata": {},
   "outputs": [
    {
     "name": "stdout",
     "output_type": "stream",
     "text": [
      "          Entity Code  Year  Annual CO₂ emissions (per capita)\n",
      "63   Afghanistan  AFG  2012                           0.329389\n",
      "291       Africa  NaN  2012                           1.132187\n",
      "381      Albania  ALB  2012                           1.676950\n",
      "488      Algeria  DZA  2012                           3.641230\n",
      "716      Andorra  AND  2012                           6.860168\n"
     ]
    }
   ],
   "source": [
    "# Choosing the 2012 \n",
    "selection = (df['Year'] == 2012)\n",
    "df_year_2012 = df[selection]\n",
    "\n",
    "\n",
    "print(df_year_2012.head())"
   ]
  },
  {
   "cell_type": "markdown",
   "metadata": {},
   "source": [
    "-------------"
   ]
  },
  {
   "cell_type": "markdown",
   "metadata": {},
   "source": [
    "## Choose one decade (average)"
   ]
  },
  {
   "cell_type": "markdown",
   "metadata": {},
   "source": [
    "- Choose one Decade and plot via Bar Chart the Top 10 Entity which on average use more CO2 emission per capita "
   ]
  },
  {
   "cell_type": "code",
   "execution_count": 56,
   "metadata": {},
   "outputs": [
    {
     "data": {
      "text/plain": [
       "\" df['Decade'] = (df['Year'] // 10) * 10\\n\\ndecade_entity_avg = df.groupby(['Decade', 'Entity'])['Annual CO₂ emissions (per capita)'].mean().reset_index()\\n\\ndecade_entity_avg_sorted = decade_entity_avg.sort_values(by='Annual CO₂ emissions (per capita)', ascending=False)\\n\\nprint(decade_entity_avg_sorted) \""
      ]
     },
     "execution_count": 56,
     "metadata": {},
     "output_type": "execute_result"
    }
   ],
   "source": [
    "# Create a new coloumn 'Decade' raggrupping the years by decade\n",
    "\"\"\" df['Decade'] = (df['Year'] // 10) * 10\n",
    "\n",
    "decade_entity_avg = df.groupby(['Decade', 'Entity'])['Annual CO₂ emissions (per capita)'].mean().reset_index()\n",
    "\n",
    "decade_entity_avg_sorted = decade_entity_avg.sort_values(by='Annual CO₂ emissions (per capita)', ascending=False)\n",
    "\n",
    "print(decade_entity_avg_sorted) \"\"\""
   ]
  },
  {
   "cell_type": "markdown",
   "metadata": {},
   "source": [
    "-------------------"
   ]
  },
  {
   "cell_type": "markdown",
   "metadata": {},
   "source": [
    "# Data of the European Union member countries selecting only entity, code, year, emission CO2"
   ]
  },
  {
   "cell_type": "code",
   "execution_count": 57,
   "metadata": {},
   "outputs": [
    {
     "name": "stdout",
     "output_type": "stream",
     "text": [
      "        Entity Code  Year  Annual CO₂ emissions (per capita)\n",
      "1965   Austria  AUT  1807                           0.053946\n",
      "1966   Austria  AUT  1819                           0.075490\n",
      "1967   Austria  AUT  1820                           0.099019\n",
      "1968   Austria  AUT  1821                           0.106077\n",
      "1969   Austria  AUT  1822                           0.107694\n",
      "...        ...  ...   ...                                ...\n",
      "22858   Sweden  SWE  2018                           4.136523\n",
      "22859   Sweden  SWE  2019                           3.993607\n",
      "22860   Sweden  SWE  2020                           3.538104\n",
      "22861   Sweden  SWE  2021                           3.680562\n",
      "22862   Sweden  SWE  2022                           3.606909\n",
      "\n",
      "[4179 rows x 4 columns]\n"
     ]
    }
   ],
   "source": [
    "\n",
    "ue_country = [\n",
    "    'Austria', 'Belgium', 'Bulgaria', 'Croatia', 'Cyprus', 'Czech Republic', \n",
    "    'Denmark', 'Estonia', 'Finland', 'France', 'Germany', 'Greece', \n",
    "    'Hungary', 'Ireland', 'Italy', 'Latvia', 'Lithuania', 'Luxembourg', \n",
    "    'Malta', 'Netherlands', 'Poland', 'Portugal', 'Romania', 'Slovakia', \n",
    "    'Slovenia', 'Spain', 'Sweden'\n",
    "]\n",
    "\n",
    "# Filter data for years greater than 1954\n",
    "df_1954 = df[df['Year'] > 1954]\n",
    "\n",
    "df_ue_1954 = df[df['Entity'].isin(ue_country)]\n",
    "\n",
    "print(df_ue_1954)"
   ]
  },
  {
   "cell_type": "code",
   "execution_count": 58,
   "metadata": {},
   "outputs": [
    {
     "name": "stdout",
     "output_type": "stream",
     "text": [
      "           Entity Code  Year  Annual CO₂ emissions (per capita)\n",
      "14508  Luxembourg  LUX  1974                          41.047718\n",
      "14507  Luxembourg  LUX  1973                          40.593910\n",
      "14504  Luxembourg  LUX  1970                          40.475006\n",
      "14506  Luxembourg  LUX  1972                          38.988323\n",
      "14503  Luxembourg  LUX  1969                          38.967620\n",
      "...           ...  ...   ...                                ...\n",
      "13855   Lithuania  LTU  1833                           0.000202\n",
      "13347      Latvia  LVA  1830                           0.000174\n",
      "13350      Latvia  LVA  1833                           0.000166\n",
      "13854   Lithuania  LTU  1832                           0.000164\n",
      "13349      Latvia  LVA  1832                           0.000135\n",
      "\n",
      "[4179 rows x 4 columns]\n"
     ]
    }
   ],
   "source": [
    "df_eu_ord = df_ue_1954.sort_values(by='Annual CO₂ emissions (per capita)', ascending=False)\n",
    "print(df_eu_ord)\n"
   ]
  },
  {
   "cell_type": "code",
   "execution_count": 59,
   "metadata": {},
   "outputs": [],
   "source": [
    "df_eu_ord.to_csv(\"../web-application/public/datasets/assignment1/co-emissions-per-capita-ue.csv\", index=False)\n"
   ]
  },
  {
   "cell_type": "markdown",
   "metadata": {},
   "source": [
    "----------------------"
   ]
  },
  {
   "cell_type": "markdown",
   "metadata": {},
   "source": [
    "# First select Data from EU contry"
   ]
  },
  {
   "cell_type": "code",
   "execution_count": 60,
   "metadata": {},
   "outputs": [
    {
     "name": "stdout",
     "output_type": "stream",
     "text": [
      "           Entity Code  Year  Annual CO₂ emissions (per capita)\n",
      "14508  Luxembourg  LUX  1974                          41.047718\n",
      "14507  Luxembourg  LUX  1973                          40.593910\n",
      "14504  Luxembourg  LUX  1970                          40.475006\n",
      "14506  Luxembourg  LUX  1972                          38.988323\n",
      "14503  Luxembourg  LUX  1969                          38.967620\n",
      "...           ...  ...   ...                                ...\n",
      "13855   Lithuania  LTU  1833                           0.000202\n",
      "13347      Latvia  LVA  1830                           0.000174\n",
      "13350      Latvia  LVA  1833                           0.000166\n",
      "13854   Lithuania  LTU  1832                           0.000164\n",
      "13349      Latvia  LVA  1832                           0.000135\n",
      "\n",
      "[4179 rows x 4 columns]\n"
     ]
    }
   ],
   "source": [
    "print(df_eu_ord)"
   ]
  },
  {
   "cell_type": "markdown",
   "metadata": {},
   "source": [
    "# Select the Year 2022"
   ]
  },
  {
   "cell_type": "code",
   "execution_count": null,
   "metadata": {},
   "outputs": [
    {
     "name": "stdout",
     "output_type": "stream",
     "text": [
      "            Entity Code  Year  Annual CO₂ emissions (per capita)  Decade\n",
      "2169       Austria  AUT  2022                           6.878194    2020\n",
      "3021       Belgium  BEL  2022                           7.687539    2020\n",
      "4367      Bulgaria  BGR  2022                           6.804453    2020\n",
      "6062       Croatia  HRV  2022                           4.348515    2020\n",
      "6290        Cyprus  CYP  2022                           5.616782    2020\n",
      "6736       Denmark  DNK  2022                           4.940161    2020\n",
      "7558       Estonia  EST  2022                           7.776280    2020\n",
      "9151       Finland  FIN  2022                           6.526740    2020\n",
      "9366        France  FRA  2022                           4.603891    2020\n",
      "9974       Germany  DEU  2022                           7.983758    2020\n",
      "10189       Greece  GRC  2022                           5.745106    2020\n",
      "11454      Hungary  HUN  2022                           4.449911    2020\n",
      "12148      Ireland  IRL  2022                           7.721119    2020\n",
      "12404        Italy  ITA  2022                           5.726825    2020\n",
      "13517       Latvia  LVA  2022                           3.561689    2020\n",
      "14022    Lithuania  LTU  2022                           4.606163    2020\n",
      "14556   Luxembourg  LUX  2022                          11.618432    2020\n",
      "15113        Malta  MLT  2022                           3.103598    2020\n",
      "16668  Netherlands  NLD  2022                           7.137218    2020\n",
      "19404       Poland  POL  2022                           8.106886    2020\n",
      "19557     Portugal  PRT  2022                           4.050785    2020\n",
      "19796      Romania  ROU  2022                           3.739777    2020\n",
      "21529     Slovakia  SVK  2022                           6.051555    2020\n",
      "21656     Slovenia  SVN  2022                           5.997992    2020\n",
      "22458        Spain  ESP  2022                           5.164442    2020\n",
      "22862       Sweden  SWE  2022                           3.606909    2020\n"
     ]
    }
   ],
   "source": [
    "df_ue = df[df['Entity'].isin(ue_country)] \n",
    "\n",
    "df_ue_2022 = df_ue[df_ue['Year'] == 2022]\n",
    "\n",
    "# Visualizza i primi risultati per verifica\n",
    "print(df_ue_2022)\n"
   ]
  },
  {
   "cell_type": "markdown",
   "metadata": {},
   "source": [
    "# Top 5 emitter and \"other\""
   ]
  },
  {
   "cell_type": "code",
   "execution_count": 62,
   "metadata": {},
   "outputs": [
    {
     "name": "stdout",
     "output_type": "stream",
     "text": [
      "       Entity Code  Year  Annual CO₂ emissions (per capita)  Decade\n",
      "5      Others   OT  2022                         110.348244     NaN\n",
      "0  Luxembourg  LUX  2022                          11.618432  2020.0\n",
      "1      Poland  POL  2022                           8.106886  2020.0\n",
      "2     Germany  DEU  2022                           7.983758  2020.0\n",
      "3     Estonia  EST  2022                           7.776280  2020.0\n",
      "4     Ireland  IRL  2022                           7.721119  2020.0\n"
     ]
    }
   ],
   "source": [
    "# Order by emission descrescent order\n",
    "df_ue_2022_sorted = df_ue_2022.sort_values(by=\"Annual CO₂ emissions (per capita)\", ascending=False)\n",
    "\n",
    "# Select top 5 emitter \n",
    "top_5_emitter = df_ue_2022_sorted.head(5)\n",
    "\n",
    "# Compute the sum of the \"other\" country in EU \n",
    "others_emission = df_ue_2022_sorted.iloc[5:][\"Annual CO₂ emissions (per capita)\"].sum()\n",
    "\n",
    "# Create a new row with the sum  \n",
    "others_row = pd.DataFrame({\n",
    "    \"Entity\": [\"Others\"],\n",
    "    \"Code\": [\"OT\"],\n",
    "    \"Year\": [2022],\n",
    "    \"Annual CO₂ emissions (per capita)\": [others_emission]\n",
    "})\n",
    "\n",
    "# Combine the Top-5 emitter and the other row \n",
    "df_top5_others = pd.concat([top_5_emitter, others_row], ignore_index=True)\n",
    "# Order by emission\n",
    "df_top5_others_ord = df_top5_others.sort_values(by=\"Annual CO₂ emissions (per capita)\", ascending=False)\n",
    "\n",
    "\n",
    "print(df_top5_others_ord)\n"
   ]
  },
  {
   "cell_type": "code",
   "execution_count": 63,
   "metadata": {},
   "outputs": [],
   "source": [
    "df_top5_others_ord.to_csv(\"../web-application/public/datasets/assignment1/top5-emitter-and-other-2022-eu.csv\", index=False)"
   ]
  },
  {
   "cell_type": "markdown",
   "metadata": {},
   "source": [
    "--------------"
   ]
  }
 ],
 "metadata": {
  "kernelspec": {
   "display_name": "Python 3",
   "language": "python",
   "name": "python3"
  },
  "language_info": {
   "codemirror_mode": {
    "name": "ipython",
    "version": 3
   },
   "file_extension": ".py",
   "mimetype": "text/x-python",
   "name": "python",
   "nbconvert_exporter": "python",
   "pygments_lexer": "ipython3",
   "version": "3.12.3"
  }
 },
 "nbformat": 4,
 "nbformat_minor": 2
}
