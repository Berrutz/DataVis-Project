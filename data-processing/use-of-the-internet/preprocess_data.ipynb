{
 "cells": [
  {
   "cell_type": "markdown",
   "metadata": {},
   "source": [
    "# INDIVIDUALS - FREQUENCY OF INTERNET ACCESS"
   ]
  },
  {
   "cell_type": "markdown",
   "metadata": {},
   "source": [
    "# indic_is ( Statistic Indicator )\n",
    "I_IDAY: Frequency of internet access: daily"
   ]
  },
  {
   "cell_type": "markdown",
   "metadata": {},
   "source": [
    "# PC_IND (Unit of Measure )\n",
    "PC_IND: Percentage of individuals (and not for example enterprise\n"
   ]
  },
  {
   "cell_type": "markdown",
   "metadata": {},
   "source": [
    "## IND_TOTAL:All individuals ( and not only male or female )"
   ]
  },
  {
   "cell_type": "code",
   "execution_count": 1,
   "metadata": {},
   "outputs": [],
   "source": [
    "import pandas as pd"
   ]
  },
  {
   "cell_type": "code",
   "execution_count": 4,
   "metadata": {},
   "outputs": [
    {
     "name": "stdout",
     "output_type": "stream",
     "text": [
      "Done!\n"
     ]
    }
   ],
   "source": [
    "\n",
    "\n",
    "file_path = \"original-datasets/freq/freq.csv\"\n",
    "df = pd.read_csv(file_path)\n",
    "\n",
    "columns_to_drop = [\"DATAFLOW\", \"LAST UPDATE\", \"OBS_FLAG\", \"CONF_STATUS\"]\n",
    "df = df.drop(columns=columns_to_drop)\n",
    "\n",
    "output_path =  \"original-datasets/freq/freq.csv\"\n",
    "df.to_csv(output_path, index=False)\n",
    "\n",
    "print(\"Done!\")\n"
   ]
  },
  {
   "cell_type": "markdown",
   "metadata": {},
   "source": [
    "## Remember : In the csv if the value related to the year is not present the row is not present !!"
   ]
  },
  {
   "cell_type": "markdown",
   "metadata": {},
   "source": [
    "-----------------"
   ]
  },
  {
   "cell_type": "markdown",
   "metadata": {},
   "source": [
    "# INDIVIDUALS - INTERNET ACTIVITIES"
   ]
  },
  {
   "cell_type": "markdown",
   "metadata": {},
   "source": [
    "The idea is to combine different CSV coming from EUROSTAT and determine which activity is performed more .\n",
    "<br>\n",
    "The Datasets are the one related to : <br>\n",
    "- The percentage of people that use internet for good and services in EU country from 2013 to 2024\n",
    "- The percentage of people that use internet for partecipation in social network in EU country from 2013 to 2024\n",
    "- The percentage of people that use internet for selling good and services in EU country from 2013 to 2024"
   ]
  },
  {
   "cell_type": "code",
   "execution_count": 2,
   "metadata": {},
   "outputs": [
    {
     "name": "stdout",
     "output_type": "stream",
     "text": [
      "Done!\n"
     ]
    }
   ],
   "source": [
    "\n",
    "file_path = \"original-datasets/activities/percentage_people_good_and_services.csv\"\n",
    "df = pd.read_csv(file_path)\n",
    "\n",
    "columns_to_drop = [\"DATAFLOW\", \"LAST UPDATE\", \"OBS_FLAG\", \"CONF_STATUS\"]\n",
    "df = df.drop(columns=columns_to_drop)\n",
    "\n",
    "output_path =  \"preprocessed_data/activities/percentage_people_good_and_services.csv\"\n",
    "df.to_csv(output_path, index=False)\n",
    "\n",
    "print(\"Done!\")"
   ]
  },
  {
   "cell_type": "code",
   "execution_count": 3,
   "metadata": {},
   "outputs": [
    {
     "name": "stdout",
     "output_type": "stream",
     "text": [
      "Done!\n"
     ]
    }
   ],
   "source": [
    "file_path = \"original-datasets/activities/percentage_people_selling_good_and_services.csv\"\n",
    "df = pd.read_csv(file_path)\n",
    "\n",
    "columns_to_drop = [\"DATAFLOW\", \"LAST UPDATE\", \"OBS_FLAG\", \"CONF_STATUS\"]\n",
    "df = df.drop(columns=columns_to_drop)\n",
    "\n",
    "output_path =  \"preprocessed_data/activities/percentage_people_selling_good_and_services.csv\"\n",
    "df.to_csv(output_path, index=False)\n",
    "\n",
    "print(\"Done!\")"
   ]
  },
  {
   "cell_type": "code",
   "execution_count": 4,
   "metadata": {},
   "outputs": [
    {
     "name": "stdout",
     "output_type": "stream",
     "text": [
      "Done!\n"
     ]
    }
   ],
   "source": [
    "file_path = \"original-datasets/activities/percentage_people_partecipating_in_social_network.csv\"\n",
    "df = pd.read_csv(file_path)\n",
    "\n",
    "columns_to_drop = [\"DATAFLOW\", \"LAST UPDATE\", \"OBS_FLAG\", \"CONF_STATUS\"]\n",
    "df = df.drop(columns=columns_to_drop)\n",
    "\n",
    "output_path =  \"preprocessed_data/activities/percentage_people_partecipating_in_social_network.csv\"\n",
    "df.to_csv(output_path, index=False)\n",
    "\n",
    "print(\"Done!\")"
   ]
  },
  {
   "cell_type": "markdown",
   "metadata": {},
   "source": [
    "------------------------"
   ]
  },
  {
   "cell_type": "markdown",
   "metadata": {},
   "source": [
    "## Percentual of individual encountering Degrading Messages online"
   ]
  },
  {
   "cell_type": "code",
   "execution_count": 5,
   "metadata": {},
   "outputs": [
    {
     "name": "stdout",
     "output_type": "stream",
     "text": [
      "Done!\n"
     ]
    }
   ],
   "source": [
    "file_path = \"original-datasets/degrading/percentage_people_degrading_online_mex.csv\"\n",
    "df = pd.read_csv(file_path)\n",
    "\n",
    "columns_to_drop = [\"DATAFLOW\", \"LAST UPDATE\", \"OBS_FLAG\", \"CONF_STATUS\"]\n",
    "df = df.drop(columns=columns_to_drop)\n",
    "\n",
    "output_path =  \"preprocessed_data/degrading/percentage_people_degrading_online_mex.csv\"\n",
    "df.to_csv(output_path, index=False)\n",
    "\n",
    "print(\"Done!\")"
   ]
  },
  {
   "cell_type": "markdown",
   "metadata": {},
   "source": [
    "----------------------"
   ]
  },
  {
   "cell_type": "markdown",
   "metadata": {},
   "source": [
    "## Percentage of individual that purchase online in the last 3 month (before 2019) (after 2019 other CSV)"
   ]
  },
  {
   "cell_type": "code",
   "execution_count": 6,
   "metadata": {},
   "outputs": [
    {
     "name": "stdout",
     "output_type": "stream",
     "text": [
      "Done!\n"
     ]
    }
   ],
   "source": [
    "file_path = \"original-datasets/purchase/percentage_purchase_last_3_month_2019_before.csv\"\n",
    "df = pd.read_csv(file_path)\n",
    "\n",
    "columns_to_drop = [\"DATAFLOW\", \"LAST UPDATE\", \"OBS_FLAG\", \"CONF_STATUS\"]\n",
    "df = df.drop(columns=columns_to_drop)\n",
    "\n",
    "output_path =  \"preprocessed_data/purchase/percentage_purchase_last_3_month_2019_before.csv\"\n",
    "df.to_csv(output_path, index=False)\n",
    "\n",
    "print(\"Done!\")"
   ]
  },
  {
   "cell_type": "code",
   "execution_count": 7,
   "metadata": {},
   "outputs": [
    {
     "name": "stdout",
     "output_type": "stream",
     "text": [
      "Done!\n"
     ]
    }
   ],
   "source": [
    "file_path = \"original-datasets/purchase/percentage_purchase_last_3_month_2019_on.csv\"\n",
    "df = pd.read_csv(file_path)\n",
    "\n",
    "columns_to_drop = [\"DATAFLOW\", \"LAST UPDATE\", \"OBS_FLAG\", \"CONF_STATUS\"]\n",
    "df = df.drop(columns=columns_to_drop)\n",
    "\n",
    "output_path =  \"preprocessed_data/purchase/percentage_purchase_last_3_month_2019_on.csv\"\n",
    "df.to_csv(output_path, index=False)\n",
    "\n",
    "print(\"Done!\")"
   ]
  },
  {
   "cell_type": "markdown",
   "metadata": {},
   "source": [
    "------------------"
   ]
  },
  {
   "cell_type": "markdown",
   "metadata": {},
   "source": [
    "## Financial Activities"
   ]
  },
  {
   "cell_type": "code",
   "execution_count": 2,
   "metadata": {},
   "outputs": [
    {
     "name": "stdout",
     "output_type": "stream",
     "text": [
      "Nessun valore nullo nella colonna 'population'.\n",
      "Population data cleaned and saved!\n"
     ]
    }
   ],
   "source": [
    "\n",
    "import pandas as pd\n",
    "\n",
    "# Carica i dati sulla popolazione\n",
    "population_data_path = \"original-datasets/financial/population_eu.csv\"\n",
    "df_population = pd.read_csv(population_data_path)\n",
    "\n",
    "\n",
    "# Rinomina la colonna \"OBS_VALUE\" in \"population\"\n",
    "df_population = df_population.rename(columns={\"OBS_VALUE\": \"population\"})\n",
    "\n",
    "# Controlla se ci sono valori nulli nella colonna \"population\"\n",
    "missing_values = df_population[\"population\"].isnull().sum()\n",
    "\n",
    "if missing_values > 0:\n",
    "    print(f\"Attenzione! Ci sono {missing_values} valori nulli nella colonna 'population'.\")\n",
    "else:\n",
    "    print(\"Nessun valore nullo nella colonna 'population'.\")\n",
    "\n",
    "# Salva il dataset pulito\n",
    "cleaned_population_path = \"preprocessed_data/financial/population_eu.csv\"\n",
    "df_population.to_csv(cleaned_population_path, index=False)\n",
    "\n",
    "print(\"Population data cleaned and saved!\")\n"
   ]
  },
  {
   "cell_type": "code",
   "execution_count": 5,
   "metadata": {},
   "outputs": [
    {
     "name": "stdout",
     "output_type": "stream",
     "text": [
      "Merge completato. File salvato in: preprocessed_data/financial/percentage_Individuals_bought_or_sold shares_or_other_investiment.csv\n"
     ]
    }
   ],
   "source": [
    "\n",
    "# Percorso dei file CSV\n",
    "financial_data_path = \"original-datasets/financial/percentage_Individuals_bought_or_sold shares_or_other_investiment.csv\"\n",
    "population_data_path = \"preprocessed_data/financial/population_eu.csv\"\n",
    "\n",
    "# Carica il dataset finanziario\n",
    "df_financial = pd.read_csv(financial_data_path)\n",
    "\n",
    "# Rimuove le colonne inutili\n",
    "columns_to_drop = [\"DATAFLOW\", \"LAST UPDATE\", \"OBS_FLAG\", \"CONF_STATUS\"]\n",
    "df_financial = df_financial.drop(columns=columns_to_drop)\n",
    "\n",
    "# Carica il dataset della popolazione\n",
    "df_population = pd.read_csv(population_data_path)\n",
    "\n",
    "# Verifica che le colonne chiave esistano\n",
    "if \"geo\" not in df_financial.columns or \"geo\" not in df_population.columns:\n",
    "    raise KeyError(\"Errore: La colonna 'geo' non è presente in uno dei dataset.\")\n",
    "\n",
    "# Esegue il merge dei dataset basandosi sulla colonna 'geo'\n",
    "df_merged = pd.merge(df_financial, df_population, on=\"geo\", how=\"left\")\n",
    "\n",
    "# Elimina le righe con valori nulli nelle colonne 'population' e 'OBS_VALUE'\n",
    "df_merged = df_merged.dropna(subset=[\"population\", \"OBS_VALUE\"])\n",
    "\n",
    "# Controllo dei valori nulli nelle colonne 'population' e 'OBS_VALUE'\n",
    "missing_population = df_merged[\"population\"].isnull().sum()\n",
    "missing_obs_value = df_merged[\"OBS_VALUE\"].isnull().sum()\n",
    "\n",
    "# Stampa un avviso se ci sono valori nulli\n",
    "if missing_population > 0:\n",
    "    print(f\"Attenzione! Ci sono {missing_population} valori nulli nella colonna 'population'.\")\n",
    "if missing_obs_value > 0:\n",
    "    print(f\"Attenzione! Ci sono {missing_obs_value} valori nulli nella colonna 'OBS_VALUE'.\")\n",
    "\n",
    "# Stampa un avviso se ci sono valori nulli\n",
    "if missing_population > 0:\n",
    "    print(f\"Attenzione! Ci sono {missing_population} valori nulli nella colonna 'population'.\")\n",
    "if missing_obs_value > 0:\n",
    "    print(f\"Attenzione! Ci sono {missing_obs_value} valori nulli nella colonna 'OBS_VALUE'.\")\n",
    "\n",
    "\n",
    "# Salva il file aggiornato\n",
    "output_path = \"preprocessed_data/financial/percentage_Individuals_bought_or_sold shares_or_other_investiment.csv\"\n",
    "df_merged.to_csv(output_path, index=False)\n",
    "\n",
    "print(f\"Merge completato. File salvato in: {output_path}\")\n"
   ]
  }
 ],
 "metadata": {
  "kernelspec": {
   "display_name": "Python 3",
   "language": "python",
   "name": "python3"
  },
  "language_info": {
   "codemirror_mode": {
    "name": "ipython",
    "version": 3
   },
   "file_extension": ".py",
   "mimetype": "text/x-python",
   "name": "python",
   "nbconvert_exporter": "python",
   "pygments_lexer": "ipython3",
   "version": "3.10.11"
  }
 },
 "nbformat": 4,
 "nbformat_minor": 2
}
